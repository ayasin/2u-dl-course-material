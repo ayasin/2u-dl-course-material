{
 "cells": [
  {
   "cell_type": "markdown",
   "metadata": {},
   "source": [
    "# CartPole AI\n",
    "\n",
    "### Getting Set up\n",
    "\n",
    "To run locally you need the following software installed:\n",
    "\n",
    "* Anaconda\n",
    "* AI Gym\n",
    "* PyTorch\n",
    "\n",
    "You can get Anaconda from [here](https://www.anaconda.com/download/).\n",
    "\n",
    "Once Anaconda is installed, you'll need to install PyTorch.  You can do so by going to the [PyTorch website](https://pytorch.org) and following the instructions appropriate to what you're trying to install.\n",
    "\n",
    "**PyTorch tl;dr for Mac**: run `conda install pytorch-cpu torchvision-cpu -c pytorch`\n",
    "\n",
    "After installing PyTorch you'll need Gym.  Unfortunately there's no conda package for Gym, so it's a few extra steps.\n",
    "\n",
    "* run `conda install libgcc`\n",
    "* run `pip install gym`\n",
    "* run `pip install box2d-py`\n",
    "\n",
    "To create animations you'll need install the following:\n",
    "\n",
    "* run `pip install git+https://github.com/jakevdp/JSAnimation.git`\n",
    "* run `pip install pyglet==1.2.4` (this will downgrade pyglet to work with JSAnimation)\n",
    "\n",
    "**For Mac**\n",
    "* run `brew install ffmpeg`\n",
    "\n",
    "**For Debian Based Linux/Ubuntu**\n",
    "* run `apt install ffmpeg`\n",
    "\n",
    "Once you're all done, you can go to the directory where you cloned the project and type:\n",
    "\n",
    "`jupyter notebook`\n",
    "\n",
    "If Anaconda is installed properly this should run the Jupyter notebook server.  Open a browser window and navigate to `localhost:8888`.  Once there, click on the `Session 4.ipynb` link.\n",
    "\n",
    "To execute the code cells below, click in the cell and hit **ctrl/cmd + enter**"
   ]
  },
  {
   "cell_type": "code",
   "execution_count": 1,
   "metadata": {},
   "outputs": [],
   "source": [
    "import setup\n",
    "from imports import *\n",
    "from buffer import Transition, MemoryRing"
   ]
  },
  {
   "cell_type": "code",
   "execution_count": 2,
   "metadata": {},
   "outputs": [
    {
     "name": "stdout",
     "output_type": "stream",
     "text": [
      "You have a CUDA capable machine\n",
      "Available GPU(s):\n",
      "\tcuda:0 TITAN V (CUDA version 7.0)\n",
      "\tcuda:1 GeForce GTX 1050 Ti (CUDA version 6.1)\n",
      "\n",
      "Your AI Gym enviornment is correctly set up.\n"
     ]
    }
   ],
   "source": [
    "setup.check_my_system()"
   ]
  },
  {
   "cell_type": "code",
   "execution_count": 5,
   "metadata": {},
   "outputs": [],
   "source": [
    "device = torch.device(\"cuda:0\" if torch.cuda.is_available() else \"cpu\")"
   ]
  },
  {
   "cell_type": "code",
   "execution_count": 7,
   "metadata": {},
   "outputs": [],
   "source": [
    "class DQN(nn.Module):\n",
    "    def __init__(self):\n",
    "        super(DQN, self).__init__()\n",
    "        self.inputLayer = nn.Linear(4, 128)\n",
    "        self.drop1 = nn.Dropout(0.2)\n",
    "        self.hiddenLayer = nn.Linear(128, 64)\n",
    "        self.outputLayer = nn.Linear(64, 2)\n",
    "        \n",
    "    def forward(self, state):\n",
    "        x = F.relu(self.inputLayer(state))\n",
    "        x = self.drop1(x)\n",
    "        x = F.relu(self.hiddenLayer(x))\n",
    "        x = F.relu(self.outputLayer(x))\n",
    "        return x"
   ]
  },
  {
   "cell_type": "code",
   "execution_count": null,
   "metadata": {},
   "outputs": [],
   "source": [
    "class Agent(object):\n",
    "    def __init__(self, lr, action_space_size, eps_max = 0.9, eps_min = 0.05, esp_decay = 0.998):\n",
    "        self.learning_rate = lr\n",
    "        self.epsilon_max = eps_max\n",
    "        self.epsilon_min = eps_min\n",
    "        self.epsilon_decay = eps_decay\n",
    "        self.action_space_size = action_space_size\n",
    "        \n",
    "        self.memory = MemoryRing(2**16)\n",
    "        self.decay_timer = 0\n",
    "        self.gamma = 0.999\n",
    "        self.batch_size = 32\n",
    "        self.step = 0\n",
    "        \n",
    "        self.policy_net = DQN().to(device)\n",
    "        self.target_net = DQN().to(device)\n",
    "        \n",
    "        self.target_net.load_state_dict(self.policy_net.state_dict())\n",
    "        self.target_net.eval()\n",
    "        \n",
    "        self.target_net_update = 50\n",
    "        \n",
    "        self.loss = torch.nn.MSELoss()\n",
    "        self.optimizer = optim.Adam(self.policy_net.parameters(), lr=self.learning_rate)"
   ]
  }
 ],
 "metadata": {
  "kernelspec": {
   "display_name": "Python 3",
   "language": "python",
   "name": "python3"
  },
  "language_info": {
   "codemirror_mode": {
    "name": "ipython",
    "version": 3
   },
   "file_extension": ".py",
   "mimetype": "text/x-python",
   "name": "python",
   "nbconvert_exporter": "python",
   "pygments_lexer": "ipython3",
   "version": "3.6.8"
  }
 },
 "nbformat": 4,
 "nbformat_minor": 2
}
