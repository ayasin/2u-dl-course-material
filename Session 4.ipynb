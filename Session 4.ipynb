{
 "cells": [
  {
   "cell_type": "markdown",
   "metadata": {},
   "source": [
    "# CartPole AI\n",
    "\n",
    "### Getting Set up\n",
    "\n",
    "To run locally you need the following software installed:\n",
    "\n",
    "* Anaconda\n",
    "* AI Gym\n",
    "* PyTorch\n",
    "\n",
    "You can get Anaconda from [here](https://www.anaconda.com/download/).\n",
    "\n",
    "Once Anaconda is installed, you'll need to install PyTorch.  You can do so by going to the [PyTorch website](https://pytorch.org) and following the instructions appropriate to what you're trying to install.\n",
    "\n",
    "**PyTorch tl;dr for Mac**: run `conda install pytorch-cpu torchvision-cpu -c pytorch`\n",
    "\n",
    "After installing PyTorch you'll need Gym.  Unfortunately there's no conda package for Gym, so it's a few extra steps.\n",
    "\n",
    "* run `conda install libgcc`\n",
    "* run `pip install gym`\n",
    "* run `pip install box2d-py`\n",
    "\n",
    "To create animations you'll need install the following:\n",
    "\n",
    "* run `pip install git+https://github.com/jakevdp/JSAnimation.git`\n",
    "* run `pip install pyglet==1.2.4` (this will downgrade pyglet to work with JSAnimation)\n",
    "\n",
    "**For Mac**\n",
    "* run `brew install ffmpeg`\n",
    "\n",
    "**For Debian Based Linux/Ubuntu**\n",
    "* run `apt install ffmpeg`\n",
    "\n",
    "Once you're all done, you can go to the directory where you cloned the project and type:\n",
    "\n",
    "`jupyter notebook`\n",
    "\n",
    "If Anaconda is installed properly this should run the Jupyter notebook server.  Open a browser window and navigate to `localhost:8888`.  Once there, click on the `Session 4.ipynb` link.\n",
    "\n",
    "To execute the code cells below, click in the cell and hit **ctrl/cmd + enter**"
   ]
  },
  {
   "cell_type": "code",
   "execution_count": null,
   "metadata": {},
   "outputs": [],
   "source": [
    "import setup\n",
    "from imports import *\n",
    "from buffer import Transition, MemoryRing"
   ]
  },
  {
   "cell_type": "code",
   "execution_count": null,
   "metadata": {},
   "outputs": [],
   "source": [
    "setup.check_my_system()"
   ]
  }
 ],
 "metadata": {
  "kernelspec": {
   "display_name": "Python 3",
   "language": "python",
   "name": "python3"
  },
  "language_info": {
   "codemirror_mode": {
    "name": "ipython",
    "version": 3
   },
   "file_extension": ".py",
   "mimetype": "text/x-python",
   "name": "python",
   "nbconvert_exporter": "python",
   "pygments_lexer": "ipython3",
   "version": "3.6.8"
  }
 },
 "nbformat": 4,
 "nbformat_minor": 2
}
