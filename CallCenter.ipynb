{
 "cells": [
  {
   "cell_type": "code",
   "execution_count": 1,
   "metadata": {},
   "outputs": [],
   "source": [
    "import setup\n",
    "from imports import *\n",
    "from buffer import Transition, MemoryRing\n",
    "from plotting import *\n",
    "from make_movie import make_movie\n",
    "from sys import maxsize"
   ]
  },
  {
   "cell_type": "code",
   "execution_count": 2,
   "metadata": {},
   "outputs": [
    {
     "name": "stdout",
     "output_type": "stream",
     "text": [
      "You have a CUDA capable machine\n",
      "Available GPU(s):\n",
      "\tcuda:0 TITAN V (CUDA version 7.0)\n",
      "\tcuda:1 GeForce GTX 1050 Ti (CUDA version 6.1)\n",
      "\n",
      "Your AI Gym enviornment is correctly set up.\n"
     ]
    }
   ],
   "source": [
    "setup.check_my_system()"
   ]
  },
  {
   "cell_type": "code",
   "execution_count": 3,
   "metadata": {},
   "outputs": [],
   "source": [
    "device = torch.device(\"cuda:0\" if torch.cuda.is_available() else \"cpu\")"
   ]
  },
  {
   "cell_type": "code",
   "execution_count": 4,
   "metadata": {},
   "outputs": [],
   "source": [
    "import call_center_sim"
   ]
  },
  {
   "cell_type": "code",
   "execution_count": 5,
   "metadata": {},
   "outputs": [],
   "source": [
    "env_name = 'call-center-sim-v1'\n",
    "env = gym.make(env_name).unwrapped\n",
    "\n",
    "# You can generally find this in the Gym docs or get a decent guess by looking at the code.\n",
    "target_avg_reward = 20000\n",
    "over_n_episodes = 100\n",
    "\n",
    "# The maximum number of iterations to go before giving up if we haven't achieved our targets\n",
    "# If the previous values are good, this means we're likely stuck in a local minima\n",
    "max_training_iterations = 10000\n",
    "\n",
    "# For episodes that don't end on their own, setting a max loss is helpful\n",
    "max_loss = -20"
   ]
  },
  {
   "cell_type": "code",
   "execution_count": 6,
   "metadata": {},
   "outputs": [],
   "source": [
    "obs, reward, done, debug = env.step(1)"
   ]
  },
  {
   "cell_type": "code",
   "execution_count": 7,
   "metadata": {},
   "outputs": [],
   "source": [
    "# Calculate dynamic settings based on selected environment\n",
    "\n",
    "env.reset()\n",
    "next_state, _, _, _ = env.step(env.action_space.sample())\n",
    "input_tensor_size = len(next_state)\n",
    "output_tensor_size = env.action_space.n"
   ]
  },
  {
   "cell_type": "code",
   "execution_count": 8,
   "metadata": {},
   "outputs": [],
   "source": [
    "class DQN(nn.Module):\n",
    "    def __init__(self):\n",
    "        super(DQN, self).__init__()\n",
    "        self.inputLayer = nn.Linear(input_tensor_size, 128)\n",
    "        self.drop1 = nn.Dropout(0.2)\n",
    "        self.hiddenLayer1 = nn.Linear(128, 64)\n",
    "        self.outputLayer = nn.Linear(64, output_tensor_size)\n",
    "        \n",
    "    def forward(self, state):\n",
    "        x = F.relu(self.inputLayer(state))\n",
    "        x = self.drop1(x)\n",
    "        x = F.relu(self.hiddenLayer1(x))\n",
    "        x = F.relu(self.outputLayer(x))\n",
    "        return x"
   ]
  },
  {
   "cell_type": "code",
   "execution_count": 9,
   "metadata": {},
   "outputs": [],
   "source": [
    "class Agent(object):\n",
    "    def __init__(self, lr, action_space_size, eps_max = 0.9, eps_min = 0.05, eps_decay = 0.998):\n",
    "        self.learning_rate = lr\n",
    "        self.epsilon_max = eps_max\n",
    "        self.epsilon_min = eps_min\n",
    "        self.epsilon_current = eps_max\n",
    "        self.epsilon_decay = eps_decay\n",
    "        self.action_space_size = action_space_size\n",
    "        \n",
    "        self.memory = MemoryRing(2**16)\n",
    "        self.decay_timer = 0\n",
    "        self.gamma = 0.999\n",
    "        self.batch_size = 32\n",
    "        self.step = 0\n",
    "        \n",
    "        self.policy_net = DQN().to(device)\n",
    "        self.target_net = DQN().to(device)\n",
    "        \n",
    "        self.target_net.load_state_dict(self.policy_net.state_dict())\n",
    "        self.target_net.eval()\n",
    "        \n",
    "        self.target_net_update = 50\n",
    "        \n",
    "        self.loss = torch.nn.MSELoss()\n",
    "        self.optimizer = optim.Adam(self.policy_net.parameters(), lr=self.learning_rate)\n",
    "        \n",
    "    def learn_from_past_experiences(self):\n",
    "        if not self.memory.can_sample(self.batch_size):\n",
    "            return\n",
    "        self.decay_timer += 1\n",
    "        if self.decay_timer % 2 == 0:\n",
    "            self.epsilon_current = max(self.epsilon_current * self.epsilon_decay, self.epsilon_min)\n",
    "        transitions = self.memory.sample(self.batch_size)\n",
    "        batch = Transition(*zip(*transitions))\n",
    "        non_termimal_entries = torch.tensor(tuple(map(lambda s: s is not None, batch.next_state)), device=device, dtype=torch.uint8)\n",
    "        non_terminal_next_states = torch.cat([s for s in batch.next_state if s is not None])\n",
    "        state_batch = torch.cat(batch.state)\n",
    "        action_batch = torch.cat(batch.action)\n",
    "        reward_batch = torch.cat(batch.reward)\n",
    "        \n",
    "        state_action_values = self.policy_net(state_batch).gather(1, action_batch)\n",
    "        next_state_values = torch.zeros(self.batch_size, device=device)\n",
    "        next_state_values[non_termimal_entries] = self.target_net(non_terminal_next_states).max(1)[0].detach()\n",
    "        expected_state_action_values = (next_state_values * self.gamma) + reward_batch\n",
    "        \n",
    "        loss = self.loss(state_action_values, expected_state_action_values.unsqueeze(1))\n",
    "        \n",
    "        self.optimizer.zero_grad()\n",
    "        loss.backward()\n",
    "        for param in self.policy_net.parameters():\n",
    "            param.grad.data.clamp_(-1, 1)\n",
    "        self.optimizer.step()\n",
    "        \n",
    "    def remember_experience(self, state, action, reward, next_state):\n",
    "        self.memory.push(state, action, reward, next_state)\n",
    "        \n",
    "    def choose_next_action(self, state, explore = True):\n",
    "        be_greedy = random.random()\n",
    "        current_eps = self.epsilon_current\n",
    "        self.step += 1\n",
    "        if ((be_greedy > current_eps) or not explore):\n",
    "            with torch.no_grad():\n",
    "                return self.policy_net(state).max(1)[1].view(1,1)\n",
    "        else:\n",
    "            return torch.tensor([[random.randrange(self.action_space_size)]], device=device, dtype=torch.long)\n",
    "    \n",
    "    def end_round_of_experiences(self, episode_number):\n",
    "        if episode_number % self.target_net_update == 0:\n",
    "            self.target_net.load_state_dict(self.policy_net.state_dict())\n",
    "            self.target_net.eval()\n",
    "    \n",
    "    def load_brain(self, prefix):\n",
    "        self.policy_net.load_state_dict(torch.load(f\"{prefix}_policy_q_net.pytorch\"))\n",
    "        self.policy_net.eval()\n",
    "        self.target_net.load_state_dict(torch.load(f\"{prefix}_target_q_net.pytorch\"))\n",
    "        self.target_net.eval()\n",
    "        \n",
    "    def save_brain(self, prefix):\n",
    "        torch.save(self.policy_net.state_dict(), f\"{prefix}_policy_q_net.pytorch\")\n",
    "        torch.save(self.target_net.state_dict(), f\"{prefix}_target_q_net.pytorch\")\n",
    "    "
   ]
  },
  {
   "cell_type": "code",
   "execution_count": 13,
   "metadata": {},
   "outputs": [],
   "source": [
    "import matplotlib.pyplot as plt\n",
    "def run_training_loop(agent, live_pod_utilization = False, end_pod_utilization = False):\n",
    "    tracker = RewardTracker()\n",
    "    \n",
    "    rolling_total_reward = [-maxsize-1 for i in range(over_n_episodes)];\n",
    "    \n",
    "    for episode in range(max_training_iterations):\n",
    "        state = env.reset()\n",
    "        done= False\n",
    "        state = torch.tensor(state, dtype=torch.float).unsqueeze(0).to(device)\n",
    "        episode_total_reward = 0\n",
    "        steps_survived = 0\n",
    "        while not done and episode_total_reward > max_loss:\n",
    "            steps_survived += 1\n",
    "            action = agent.choose_next_action(state)\n",
    "            next_state, reward, done, dbg = env.step(action.item())\n",
    "            episode_total_reward += reward\n",
    "            reward = torch.tensor([reward], dtype=torch.float).to(device)\n",
    "            if done:\n",
    "                next_state = None\n",
    "            else:\n",
    "                next_state = torch.tensor(next_state, dtype=torch.float).unsqueeze(0).to(device)\n",
    "            \n",
    "            agent.remember_experience(state, action, reward, next_state)\n",
    "            state = next_state\n",
    "            if live_pod_utilization:\n",
    "                queues = dbg['current_state'][:-1]\n",
    "                y_pos = np.arange(len(queues))\n",
    "                plt.close()\n",
    "                plt.bar(y_pos, queues)\n",
    "                plt.xticks(y_pos, [x+1 for x in range(len(queues))])\n",
    "                clear_output(wait=True)\n",
    "                display(plt.gcf())\n",
    "                \n",
    "            agent.learn_from_past_experiences()\n",
    "            if done or (episode_total_reward <= max_loss):\n",
    "                tracker.push(episode_total_reward)\n",
    "                rolling_total_reward[episode % over_n_episodes] = episode_total_reward\n",
    "                if not live_pod_utilization and not end_pod_utilization:\n",
    "                    clear_output(wait=True)\n",
    "                    tracker.plot()\n",
    "                    print(f\"Steps survived: {steps_survived} Reward: {episode_total_reward}\")\n",
    "                \n",
    "                if end_pod_utilization:\n",
    "                    queues = dbg['current_state'][:-1]\n",
    "                    y_pos = np.arange(len(queues))\n",
    "                    plt.bar(y_pos, queues)\n",
    "                    plt.xticks(y_pos, [x+1 for x in range(len(queues))])\n",
    "                    clear_output(wait=True)\n",
    "                    display(plt.gcf())\n",
    "                    plt.close()\n",
    "                \n",
    "                if np.mean(rolling_total_reward) >= target_avg_reward:\n",
    "                    agent.end_round_of_experiences(episode)\n",
    "                    agent.save_brain(f\"{env_name.lower()}_{episode}_ep\")\n",
    "                    print(f'Target achieved in {episode} episodes')\n",
    "                    return\n",
    "            \n",
    "        agent.end_round_of_experiences(episode)\n",
    "    agent.save_brain(f\"{env_name.lower()}_{over_n_episodes}_ep\")\n",
    "    print('Episode limit expired')"
   ]
  },
  {
   "cell_type": "code",
   "execution_count": 14,
   "metadata": {},
   "outputs": [
    {
     "data": {
      "image/png": "[encoded data removed]",
      "text/plain": [
       "<matplotlib.figure.Figure at 0x7ff8680b5da0>"
      ]
     },
     "metadata": {},
     "output_type": "display_data"
    },
    {
     "name": "stdout",
     "output_type": "stream",
     "text": [
      "Steps survived: 2000 Reward: 19816.275383230804\n",
      "Target achieved in 151 episodes\n"
     ]
    },
    {
     "data": {
      "image/png": "[encoded data removed]",
      "text/plain": [
       "<matplotlib.figure.Figure at 0x7ff8680b5da0>"
      ]
     },
     "metadata": {},
     "output_type": "display_data"
    }
   ],
   "source": [
    "agent = Agent(0.0001, env.action_space.n)\n",
    "# if you'd reather start with a pretrained network, remove the comment from the one below\n",
    "# agent.load_brain(\"call-center-sim-v1_151_ep\")\n",
    "\n",
    "# Use the following call to see live pod utilization during training\n",
    "# run_training_loop(agent, live_pod_utilization=True)\n",
    "\n",
    "# Use the following call to see pod utilization at the end of each run\n",
    "# run_training_loop(agent, end_pod_utilization=True)\n",
    "\n",
    "# Use the following call to train the agent with the normal progress graph\n",
    "run_training_loop(agent)"
   ]
  },
  {
   "cell_type": "code",
   "execution_count": 17,
   "metadata": {},
   "outputs": [
    {
     "data": {
      "image/png": "[encoded data removed]",
      "text/plain": [
       "<matplotlib.figure.Figure at 0x7ff837f14ef0>"
      ]
     },
     "metadata": {},
     "output_type": "display_data"
    },
    {
     "name": "stdout",
     "output_type": "stream",
     "text": [
      "Total reward: 21117.653972188145\n"
     ]
    }
   ],
   "source": [
    "def use_agent(agent):\n",
    "    done = False\n",
    "    episode_total_reward = 0\n",
    "    state = env.reset()\n",
    "    state = torch.tensor(state, dtype=torch.float).unsqueeze(0).to(device)\n",
    "    while not done:\n",
    "        action = agent.choose_next_action(state, explore=False)\n",
    "        next_state, reward, done, dbg = env.step(action.item())\n",
    "        episode_total_reward += reward\n",
    "        reward = torch.tensor([reward], dtype=torch.float).to(device)\n",
    "        if done:\n",
    "            next_state = None\n",
    "        else:\n",
    "            next_state = torch.tensor(next_state, dtype=torch.float).unsqueeze(0).to(device)\n",
    "        state = next_state\n",
    "        queues = dbg['current_state'][:-1]\n",
    "        y_pos = np.arange(len(queues))\n",
    "        plt.bar(y_pos, queues)\n",
    "        plt.xticks(y_pos, [x+1 for x in range(len(queues))])\n",
    "        clear_output(wait=True)\n",
    "        display(plt.gcf())\n",
    "        plt.close()\n",
    "    print(f\"Total reward: {episode_total_reward}\")\n",
    "\n",
    "use_agent(agent)"
   ]
  }
 ],
 "metadata": {
  "kernelspec": {
   "display_name": "Python 3",
   "language": "python",
   "name": "python3"
  },
  "language_info": {
   "codemirror_mode": {
    "name": "ipython",
    "version": 3
   },
   "file_extension": ".py",
   "mimetype": "text/x-python",
   "name": "python",
   "nbconvert_exporter": "python",
   "pygments_lexer": "ipython3",
   "version": "3.6.8"
  }
 },
 "nbformat": 4,
 "nbformat_minor": 2
}
